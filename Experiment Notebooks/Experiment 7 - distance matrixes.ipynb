{
 "cells": [
  {
   "cell_type": "code",
   "execution_count": 1,
   "metadata": {
    "collapsed": true
   },
   "outputs": [],
   "source": [
    "import torch\n",
    "from torch.autograd import Variable\n",
    "import torch.nn as nn\n",
    "import torch.nn.functional as F\n",
    "import torch.optim as optim\n",
    "\n",
    "import torchvision\n",
    "import torchvision.transforms as transforms\n",
    "\n",
    "import numpy as np\n",
    "import matplotlib.pyplot as plt\n",
    "\n",
    "from scipy.spatial.distance import pdist"
   ]
  },
  {
   "cell_type": "code",
   "execution_count": 2,
   "metadata": {
    "collapsed": true
   },
   "outputs": [],
   "source": [
    "# Hyperparameters\n",
    "cuda = True\n",
    "epochs = 10\n",
    "log_interval = 400\n",
    "batchSize = 16\n",
    "\n",
    "hidden_layer_sizes = [256, 256, 256, 256, 256]\n",
    "\n",
    "lr = 0.001"
   ]
  },
  {
   "cell_type": "code",
   "execution_count": 3,
   "metadata": {},
   "outputs": [
    {
     "name": "stdout",
     "output_type": "stream",
     "text": [
      "Net (\n",
      "  (fc_in): Linear (3072 -> 256)\n",
      "  (linears): ModuleList (\n",
      "    (0): Linear (256 -> 256)\n",
      "    (1): Linear (256 -> 256)\n",
      "    (2): Linear (256 -> 256)\n",
      "    (3): Linear (256 -> 256)\n",
      "  )\n",
      "  (fc_out): Linear (256 -> 10)\n",
      ")\n"
     ]
    }
   ],
   "source": [
    "class Net(nn.Module):\n",
    "    def __init__(self):\n",
    "        super(Net, self).__init__()\n",
    "        self.fc_in = nn.Linear(3 * 32 * 32, hidden_layer_sizes[0])\n",
    "        self.linears = nn.ModuleList([nn.Linear(hidden_layer_sizes[i], hidden_layer_sizes[i+1]) for i in range(len(hidden_layer_sizes) - 1)])\n",
    "        self.fc_out = nn.Linear(hidden_layer_sizes[-1], 10)\n",
    "        \n",
    "#         for i, l in enumerate(self.linears):\n",
    "#             self.linears[i].weight.data.copy_(torch.eye(self.linears[i].weight.size(0)))\n",
    "\n",
    "    def forward(self, x):\n",
    "        activations = []\n",
    "        x = x.view(-1, 3 * 32 * 32)\n",
    "        x = F.relu(self.fc_in(x))\n",
    "        activations = np.expand_dims(torch.sign(x).cpu().data.numpy(), axis=1)\n",
    "        for i, l in enumerate(self.linears):\n",
    "            x = F.relu(l(x))\n",
    "            activations = np.append(activations, np.expand_dims(torch.sign(x).cpu().data.numpy(), axis=1), axis=1)\n",
    "        x = self.fc_out(x)\n",
    "        return x, activations\n",
    "    \n",
    "model = Net()\n",
    "print(model)\n",
    "\n",
    "criterion = nn.CrossEntropyLoss()\n",
    "optimizer = optim.SGD(model.parameters(), lr=lr, momentum=0.9)"
   ]
  },
  {
   "cell_type": "code",
   "execution_count": 4,
   "metadata": {
    "collapsed": true
   },
   "outputs": [],
   "source": [
    "class ActivationFollower():\n",
    "    \n",
    "    train_activations = 0\n",
    "    train_labels = 0\n",
    "    \n",
    "    def __init__(self):\n",
    "        train_activations = 0\n",
    "        train_labels = 0\n",
    "        test_activations = 0\n",
    "        test_labels = 0\n",
    "    \n",
    "    def reset(self):\n",
    "        train_activations = 0\n",
    "        train_labels = 0\n",
    "        test_activations = 0\n",
    "        test_labels = 0\n",
    "    \n",
    "    def train_add(self, x, y):\n",
    "        if type(self.train_activations) is np.ndarray:\n",
    "            self.train_activations = np.append(self.train_activations, x, axis=0)\n",
    "            self.train_labels = np.append(self.train_labels, y, axis=0)\n",
    "        else:\n",
    "            self.train_activations = x\n",
    "            self.train_labels = y\n",
    "        \n",
    "    def print_metrics(self):\n",
    "        Matrixes = []\n",
    "        for l in range(len(hidden_layer_sizes)):\n",
    "            Matrixes += [pdist(self.train_activations[:,l], metric='cityblock')]\n",
    "        for l1 in range(len(hidden_layer_sizes) - 1):\n",
    "            for l2 in range(1, len(hidden_layer_sizes)):\n",
    "                if l1 != l2:\n",
    "                    plt.hist(np.abs(Matrixes[l2] - Matrixes[l1]), label='Layers : %d - %d' % (l1 + 1, l2 + 1))\n",
    "                    plt.legend()\n",
    "                    avg_distance_diff = np.abs(Matrixes[l2] - Matrixes[l1]).mean()\n",
    "                    avg_distance_sum = np.abs(Matrixes[l2] - Matrixes[l1]).sum()\n",
    "                    covariance = np.cov(Matrixes[l1], Matrixes[l2])[0][1] / np.std(Matrixes[l1]) / np.std(Matrixes[l2])\n",
    "                    print('Layers : %d %d --- Average Distance difference : %.2f, Covariance : %.2f, Sum Distance difference : %.2f' % (l1, l2, avg_distance_diff, covariance, avg_distance_sum))\n",
    "        plt.title('How much the layer changes the distances of elements')\n",
    "        plt.show()"
   ]
  },
  {
   "cell_type": "code",
   "execution_count": 5,
   "metadata": {
    "scrolled": true
   },
   "outputs": [
    {
     "name": "stdout",
     "output_type": "stream",
     "text": [
      "Files already downloaded and verified\n",
      "Files already downloaded and verified\n"
     ]
    }
   ],
   "source": [
    "transform = transforms.Compose(\n",
    "    [transforms.ToTensor(),\n",
    "     transforms.Normalize((0.5, 0.5, 0.5), (0.5, 0.5, 0.5))])\n",
    "\n",
    "trainset = torchvision.datasets.CIFAR10(root='./data', train=True,\n",
    "                                        download=True, transform=transform)\n",
    "trainloader = torch.utils.data.DataLoader(trainset, batch_size=batchSize,\n",
    "                                          shuffle=True, num_workers=2)\n",
    "\n",
    "testset = torchvision.datasets.CIFAR10(root='./data', train=False,\n",
    "                                       download=True, transform=transform)\n",
    "testloader = torch.utils.data.DataLoader(testset, batch_size=batchSize,\n",
    "                                         shuffle=False, num_workers=2)\n",
    "\n",
    "classes = ('plane', 'car', 'bird', 'cat',\n",
    "           'deer', 'dog', 'frog', 'horse', 'ship', 'truck')"
   ]
  },
  {
   "cell_type": "code",
   "execution_count": 6,
   "metadata": {
    "collapsed": true
   },
   "outputs": [],
   "source": [
    "if cuda:\n",
    "    model.cuda()\n",
    "    criterion.cuda()"
   ]
  },
  {
   "cell_type": "code",
   "execution_count": 7,
   "metadata": {
    "collapsed": true
   },
   "outputs": [],
   "source": [
    "def train(epoch):\n",
    "    model.train()\n",
    "    for batch_idx, (data, target) in enumerate(trainloader):\n",
    "        if cuda:\n",
    "            data, target = data.cuda(), target.cuda()\n",
    "        data, target = Variable(data), Variable(target)\n",
    "        optimizer.zero_grad()\n",
    "        output, activations = model(data)\n",
    "        loss = criterion(output, target)\n",
    "        loss.backward()\n",
    "        optimizer.step()\n",
    "        if batch_idx % log_interval == 0:\n",
    "            print('Train Epoch: {} [{}/{} ({:.0f}%)]\\tLoss: {:.6f}'.format(\n",
    "                epoch, batch_idx * len(data), len(trainloader.dataset),\n",
    "                100. * batch_idx / len(trainloader), loss.data[0]))\n",
    "\n",
    "def test(epoch):\n",
    "    model.eval()\n",
    "    test_loss = 0\n",
    "    correct = 0\n",
    "    for data, target in testloader:\n",
    "        if cuda:\n",
    "            data, target = data.cuda(), target.cuda()\n",
    "        data, target = Variable(data, volatile=True), Variable(target)\n",
    "        output, activations = model(data)\n",
    "        test_loss += criterion(output, target).data[0]\n",
    "        pred = output.data.max(1)[1] # get the index of the max log-probability\n",
    "        correct += pred.eq(target.data).cpu().sum()\n",
    "\n",
    "    test_loss = test_loss\n",
    "    test_loss /= len(testloader) # loss function already averages over batch size\n",
    "    print('\\nTest set: Average loss: {:.4f}, Accuracy: {}/{} ({:.0f}%)\\n'.format(\n",
    "        test_loss, correct, len(testloader.dataset),\n",
    "        100. * correct / len(testloader.dataset)))\n",
    "    \n",
    "def activation_metrics():\n",
    "    metrics = ActivationFollower()\n",
    "    for batch_idx, (data, target) in enumerate(trainloader):\n",
    "        if cuda:\n",
    "            data, target = data.cuda(), target.cuda()\n",
    "        data, target = Variable(data), Variable(target)\n",
    "        output, activations = model(data)\n",
    "        metrics.train_add(activations, target.cpu().data.numpy())\n",
    "        if batch_idx > 250:\n",
    "            break\n",
    "#     for batch_idx, (data, target) in enumerate(testloader):\n",
    "#         if cuda:\n",
    "#             data, target = data.cuda(), target.cuda()\n",
    "#         data, target = Variable(data), Variable(target)\n",
    "#         output, activations = model(data)\n",
    "#         metrics.test_add(activations, target.cpu().data.numpy())\n",
    "        \n",
    "    metrics.print_metrics()"
   ]
  },
  {
   "cell_type": "code",
   "execution_count": 8,
   "metadata": {},
   "outputs": [
    {
     "name": "stdout",
     "output_type": "stream",
     "text": [
      "Layers : 0 1 --- Average Distance difference : 32.07, Covariance : 0.80, Sum Distance difference : 260596771.00\n",
      "Layers : 0 2 --- Average Distance difference : 61.99, Covariance : 0.51, Sum Distance difference : 503721306.00\n",
      "Layers : 0 3 --- Average Distance difference : 96.41, Covariance : 0.39, Sum Distance difference : 783453184.00\n",
      "Layers : 0 4 --- Average Distance difference : 110.49, Covariance : 0.32, Sum Distance difference : 897894841.00\n",
      "Layers : 1 2 --- Average Distance difference : 30.26, Covariance : 0.58, Sum Distance difference : 245909735.00\n",
      "Layers : 1 3 --- Average Distance difference : 64.66, Covariance : 0.45, Sum Distance difference : 525433977.00\n",
      "Layers : 1 4 --- Average Distance difference : 78.74, Covariance : 0.37, Sum Distance difference : 639875794.00\n",
      "Layers : 2 1 --- Average Distance difference : 30.26, Covariance : 0.58, Sum Distance difference : 245909735.00\n",
      "Layers : 2 3 --- Average Distance difference : 34.44, Covariance : 0.60, Sum Distance difference : 279869740.00\n",
      "Layers : 2 4 --- Average Distance difference : 48.52, Covariance : 0.50, Sum Distance difference : 394310845.00\n",
      "Layers : 3 1 --- Average Distance difference : 64.66, Covariance : 0.45, Sum Distance difference : 525433977.00\n",
      "Layers : 3 2 --- Average Distance difference : 34.44, Covariance : 0.60, Sum Distance difference : 279869740.00\n",
      "Layers : 3 4 --- Average Distance difference : 14.10, Covariance : 0.53, Sum Distance difference : 114544345.00\n"
     ]
    },
    {
     "data": {
      "image/png": "[encoded data removed]",
      "text/plain": [
       "<matplotlib.figure.Figure at 0x7f224b1441d0>"
      ]
     },
     "metadata": {},
     "output_type": "display_data"
    },
    {
     "name": "stdout",
     "output_type": "stream",
     "text": [
      "Train Epoch: 1 [0/50000 (0%)]\tLoss: 2.305326\n",
      "Train Epoch: 1 [6400/50000 (13%)]\tLoss: 2.303862\n",
      "Train Epoch: 1 [12800/50000 (26%)]\tLoss: 2.305954\n",
      "Train Epoch: 1 [19200/50000 (38%)]\tLoss: 2.300806\n",
      "Train Epoch: 1 [25600/50000 (51%)]\tLoss: 2.276538\n",
      "Train Epoch: 1 [32000/50000 (64%)]\tLoss: 2.138680\n",
      "Train Epoch: 1 [38400/50000 (77%)]\tLoss: 2.279256\n",
      "Train Epoch: 1 [44800/50000 (90%)]\tLoss: 2.212523\n",
      "\n",
      "Test set: Average loss: 1.9652, Accuracy: 2672/10000 (27%)\n",
      "\n",
      "Train Epoch: 2 [0/50000 (0%)]\tLoss: 1.835502\n",
      "Train Epoch: 2 [6400/50000 (13%)]\tLoss: 1.868881\n",
      "Train Epoch: 2 [12800/50000 (26%)]\tLoss: 1.781420\n",
      "Train Epoch: 2 [19200/50000 (38%)]\tLoss: 1.951041\n",
      "Train Epoch: 2 [25600/50000 (51%)]\tLoss: 2.196746\n",
      "Train Epoch: 2 [32000/50000 (64%)]\tLoss: 1.568693\n",
      "Train Epoch: 2 [38400/50000 (77%)]\tLoss: 1.921022\n",
      "Train Epoch: 2 [44800/50000 (90%)]\tLoss: 1.416978\n",
      "\n",
      "Test set: Average loss: 1.6694, Accuracy: 3904/10000 (39%)\n",
      "\n",
      "Train Epoch: 3 [0/50000 (0%)]\tLoss: 1.471858\n",
      "Train Epoch: 3 [6400/50000 (13%)]\tLoss: 1.536747\n",
      "Train Epoch: 3 [12800/50000 (26%)]\tLoss: 1.462037\n",
      "Train Epoch: 3 [19200/50000 (38%)]\tLoss: 1.539222\n",
      "Train Epoch: 3 [25600/50000 (51%)]\tLoss: 1.235782\n",
      "Train Epoch: 3 [32000/50000 (64%)]\tLoss: 1.166832\n",
      "Train Epoch: 3 [38400/50000 (77%)]\tLoss: 2.049479\n",
      "Train Epoch: 3 [44800/50000 (90%)]\tLoss: 1.804512\n",
      "\n",
      "Test set: Average loss: 1.5303, Accuracy: 4495/10000 (45%)\n",
      "\n",
      "Train Epoch: 4 [0/50000 (0%)]\tLoss: 1.447852\n",
      "Train Epoch: 4 [6400/50000 (13%)]\tLoss: 2.070594\n",
      "Train Epoch: 4 [12800/50000 (26%)]\tLoss: 1.500537\n",
      "Train Epoch: 4 [19200/50000 (38%)]\tLoss: 1.800020\n",
      "Train Epoch: 4 [25600/50000 (51%)]\tLoss: 1.041083\n",
      "Train Epoch: 4 [32000/50000 (64%)]\tLoss: 1.786647\n",
      "Train Epoch: 4 [38400/50000 (77%)]\tLoss: 1.381960\n",
      "Train Epoch: 4 [44800/50000 (90%)]\tLoss: 1.451769\n",
      "\n",
      "Test set: Average loss: 1.4354, Accuracy: 4929/10000 (49%)\n",
      "\n",
      "Train Epoch: 5 [0/50000 (0%)]\tLoss: 1.189619\n",
      "Train Epoch: 5 [6400/50000 (13%)]\tLoss: 1.483989\n",
      "Train Epoch: 5 [12800/50000 (26%)]\tLoss: 1.302428\n",
      "Train Epoch: 5 [19200/50000 (38%)]\tLoss: 1.275513\n",
      "Train Epoch: 5 [25600/50000 (51%)]\tLoss: 1.653890\n",
      "Train Epoch: 5 [32000/50000 (64%)]\tLoss: 1.639181\n",
      "Train Epoch: 5 [38400/50000 (77%)]\tLoss: 1.184029\n",
      "Train Epoch: 5 [44800/50000 (90%)]\tLoss: 1.588878\n",
      "\n",
      "Test set: Average loss: 1.3863, Accuracy: 5059/10000 (51%)\n",
      "\n",
      "Train Epoch: 6 [0/50000 (0%)]\tLoss: 1.589168\n",
      "Train Epoch: 6 [6400/50000 (13%)]\tLoss: 0.910677\n",
      "Train Epoch: 6 [12800/50000 (26%)]\tLoss: 1.465940\n",
      "Train Epoch: 6 [19200/50000 (38%)]\tLoss: 1.392660\n",
      "Train Epoch: 6 [25600/50000 (51%)]\tLoss: 0.967205\n",
      "Train Epoch: 6 [32000/50000 (64%)]\tLoss: 0.947509\n",
      "Train Epoch: 6 [38400/50000 (77%)]\tLoss: 1.211680\n",
      "Train Epoch: 6 [44800/50000 (90%)]\tLoss: 1.239540\n",
      "\n",
      "Test set: Average loss: 1.3644, Accuracy: 5199/10000 (52%)\n",
      "\n",
      "Train Epoch: 7 [0/50000 (0%)]\tLoss: 1.048678\n",
      "Train Epoch: 7 [6400/50000 (13%)]\tLoss: 1.283558\n",
      "Train Epoch: 7 [12800/50000 (26%)]\tLoss: 1.156526\n",
      "Train Epoch: 7 [19200/50000 (38%)]\tLoss: 1.031834\n",
      "Train Epoch: 7 [25600/50000 (51%)]\tLoss: 1.524025\n",
      "Train Epoch: 7 [32000/50000 (64%)]\tLoss: 1.517057\n",
      "Train Epoch: 7 [38400/50000 (77%)]\tLoss: 0.990425\n",
      "Train Epoch: 7 [44800/50000 (90%)]\tLoss: 1.319915\n",
      "\n",
      "Test set: Average loss: 1.3551, Accuracy: 5232/10000 (52%)\n",
      "\n",
      "Train Epoch: 8 [0/50000 (0%)]\tLoss: 0.719975\n",
      "Train Epoch: 8 [6400/50000 (13%)]\tLoss: 1.071782\n",
      "Train Epoch: 8 [12800/50000 (26%)]\tLoss: 1.711404\n",
      "Train Epoch: 8 [19200/50000 (38%)]\tLoss: 0.870860\n",
      "Train Epoch: 8 [25600/50000 (51%)]\tLoss: 1.300443\n",
      "Train Epoch: 8 [32000/50000 (64%)]\tLoss: 0.739869\n",
      "Train Epoch: 8 [38400/50000 (77%)]\tLoss: 0.881905\n",
      "Train Epoch: 8 [44800/50000 (90%)]\tLoss: 0.921562\n",
      "\n",
      "Test set: Average loss: 1.3380, Accuracy: 5298/10000 (53%)\n",
      "\n",
      "Train Epoch: 9 [0/50000 (0%)]\tLoss: 1.213828\n",
      "Train Epoch: 9 [6400/50000 (13%)]\tLoss: 1.268311\n",
      "Train Epoch: 9 [12800/50000 (26%)]\tLoss: 1.252502\n",
      "Train Epoch: 9 [19200/50000 (38%)]\tLoss: 1.379728\n",
      "Train Epoch: 9 [25600/50000 (51%)]\tLoss: 0.664151\n",
      "Train Epoch: 9 [32000/50000 (64%)]\tLoss: 1.226477\n",
      "Train Epoch: 9 [38400/50000 (77%)]\tLoss: 0.804842\n",
      "Train Epoch: 9 [44800/50000 (90%)]\tLoss: 1.057290\n",
      "\n",
      "Test set: Average loss: 1.3236, Accuracy: 5358/10000 (54%)\n",
      "\n",
      "Train Epoch: 10 [0/50000 (0%)]\tLoss: 0.736307\n",
      "Train Epoch: 10 [6400/50000 (13%)]\tLoss: 0.973029\n",
      "Train Epoch: 10 [12800/50000 (26%)]\tLoss: 1.002546\n",
      "Train Epoch: 10 [19200/50000 (38%)]\tLoss: 1.083197\n",
      "Train Epoch: 10 [25600/50000 (51%)]\tLoss: 0.842602\n",
      "Train Epoch: 10 [32000/50000 (64%)]\tLoss: 1.244454\n",
      "Train Epoch: 10 [38400/50000 (77%)]\tLoss: 0.971939\n",
      "Train Epoch: 10 [44800/50000 (90%)]\tLoss: 1.050967\n",
      "\n",
      "Test set: Average loss: 1.3282, Accuracy: 5383/10000 (54%)\n",
      "\n",
      "Layers : 0 1 --- Average Distance difference : 14.80, Covariance : 0.68, Sum Distance difference : 120272607.00\n",
      "Layers : 0 2 --- Average Distance difference : 29.94, Covariance : 0.49, Sum Distance difference : 243296561.00\n",
      "Layers : 0 3 --- Average Distance difference : 44.96, Covariance : 0.39, Sum Distance difference : 365363582.00\n",
      "Layers : 0 4 --- Average Distance difference : 42.97, Covariance : 0.31, Sum Distance difference : 349200185.00\n",
      "Layers : 1 2 --- Average Distance difference : 21.23, Covariance : 0.72, Sum Distance difference : 172538752.00\n",
      "Layers : 1 3 --- Average Distance difference : 36.73, Covariance : 0.61, Sum Distance difference : 298515537.00\n",
      "Layers : 1 4 --- Average Distance difference : 34.32, Covariance : 0.58, Sum Distance difference : 278915782.00\n",
      "Layers : 2 1 --- Average Distance difference : 21.23, Covariance : 0.72, Sum Distance difference : 172538752.00\n",
      "Layers : 2 3 --- Average Distance difference : 16.69, Covariance : 0.83, Sum Distance difference : 135629065.00\n",
      "Layers : 2 4 --- Average Distance difference : 16.28, Covariance : 0.77, Sum Distance difference : 132302638.00\n",
      "Layers : 3 1 --- Average Distance difference : 36.73, Covariance : 0.61, Sum Distance difference : 298515537.00\n",
      "Layers : 3 2 --- Average Distance difference : 16.69, Covariance : 0.83, Sum Distance difference : 135629065.00\n",
      "Layers : 3 4 --- Average Distance difference : 9.99, Covariance : 0.85, Sum Distance difference : 81185907.00\n"
     ]
    },
    {
     "data": {
      "image/png": "[encoded data removed]",
      "text/plain": [
       "<matplotlib.figure.Figure at 0x7f224add9810>"
      ]
     },
     "metadata": {},
     "output_type": "display_data"
    }
   ],
   "source": [
    "activation_metrics()\n",
    "\n",
    "for epoch in range(1, epochs + 1):\n",
    "    train(epoch)\n",
    "    test(epoch)\n",
    "    \n",
    "activation_metrics()"
   ]
  },
  {
   "cell_type": "code",
   "execution_count": null,
   "metadata": {},
   "outputs": [],
   "source": []
  },
  {
   "cell_type": "code",
   "execution_count": null,
   "metadata": {
    "collapsed": true
   },
   "outputs": [],
   "source": []
  }
 ],
 "metadata": {
  "kernelspec": {
   "display_name": "Python 2",
   "language": "python",
   "name": "python2"
  },
  "language_info": {
   "codemirror_mode": {
    "name": "ipython",
    "version": 2
   },
   "file_extension": ".py",
   "mimetype": "text/x-python",
   "name": "python",
   "nbconvert_exporter": "python",
   "pygments_lexer": "ipython2",
   "version": "2.7.13"
  }
 },
 "nbformat": 4,
 "nbformat_minor": 2
}
