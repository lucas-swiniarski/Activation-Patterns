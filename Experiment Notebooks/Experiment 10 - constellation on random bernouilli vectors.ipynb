{
 "cells": [
  {
   "cell_type": "code",
   "execution_count": 44,
   "metadata": {
    "collapsed": true
   },
   "outputs": [],
   "source": [
    "from scipy.cluster.hierarchy import dendrogram, linkage\n",
    "import numpy as np\n",
    "import matplotlib.pyplot as plt\n",
    "\n",
    "from scipy.spatial.distance import pdist"
   ]
  },
  {
   "cell_type": "code",
   "execution_count": 45,
   "metadata": {
    "collapsed": true
   },
   "outputs": [],
   "source": [
    "nb = 16000\n",
    "nhid = 256\n",
    "draw = 10"
   ]
  },
  {
   "cell_type": "code",
   "execution_count": null,
   "metadata": {},
   "outputs": [],
   "source": []
  },
  {
   "cell_type": "code",
   "execution_count": 46,
   "metadata": {
    "collapsed": true
   },
   "outputs": [],
   "source": [
    "def num_linkage_below_threshold(Z, distance, num_elem):\n",
    "    elem_in_linkage = len(Z)\n",
    "    count_clusters = 0\n",
    "    elems_seen = {}\n",
    "\n",
    "    for i in Z:\n",
    "        # Check if this cluster is made with a good distance.\n",
    "        if i[2] <= distance:\n",
    "            count_clusters += 1\n",
    "            if i[0] >= elem_in_linkage:\n",
    "                count_clusters -= 1\n",
    "            else:\n",
    "                elems_seen[i[0]] = 1\n",
    "            if i[1] >= elem_in_linkage:\n",
    "                count_clusters -= 1 \n",
    "            else:\n",
    "                elems_seen[i[1]] = 1\n",
    "    count_clusters += num_elem - len(elems_seen.keys())\n",
    "\n",
    "    # print('Number of clusters :%d ' % (count_clusters))\n",
    "    return count_clusters\n",
    "\n",
    "def curve_clusters_count(Z, num_elem):\n",
    "    X = np.arange(10, 201, 10)\n",
    "    Y = []\n",
    "    for i in X:\n",
    "        Y += [num_linkage_below_threshold(Z, i, num_elem)]\n",
    "    return Y\n",
    "    plt.plot(X, Y)\n",
    "    plt.xlim(10, 200)\n",
    "    plt.show()\n",
    "\n",
    "\n",
    "def print_metrics():\n",
    "    Ys = []\n",
    "    for i in range(draw):\n",
    "        X = np.random.randint(2, size=(nb, nhid))\n",
    "        Z = linkage(256 * pdist(X, metric='hamming'), 'complete', metric='precomputed')\n",
    "        Ys += [curve_clusters_count(Z, nb)]\n",
    "    Ys = np.array(Ys)\n",
    "    \n",
    "    Ys_min = Ys.min(0)\n",
    "    Ys_max = Ys.max(0)\n",
    "    Ys_avg = Ys.mean(0)\n",
    "    X = np.arange(10, 201, 10)\n",
    "    plt.plot(X, Ys_min, 'r--')\n",
    "    plt.plot(X, Ys_max, 'r-+')\n",
    "    plt.plot(X, Ys_avg, 'b')\n",
    "    plt.show()"
   ]
  },
  {
   "cell_type": "code",
   "execution_count": 47,
   "metadata": {},
   "outputs": [
    {
     "data": {
      "image/png": "[encoded data removed]",
      "text/plain": [
       "<matplotlib.figure.Figure at 0x7fbc8281ec90>"
      ]
     },
     "metadata": {},
     "output_type": "display_data"
    }
   ],
   "source": [
    "print_metrics()"
   ]
  },
  {
   "cell_type": "code",
   "execution_count": null,
   "metadata": {},
   "outputs": [],
   "source": []
  },
  {
   "cell_type": "code",
   "execution_count": null,
   "metadata": {
    "collapsed": true
   },
   "outputs": [],
   "source": []
  }
 ],
 "metadata": {
  "kernelspec": {
   "display_name": "Python 2",
   "language": "python",
   "name": "python2"
  },
  "language_info": {
   "codemirror_mode": {
    "name": "ipython",
    "version": 2
   },
   "file_extension": ".py",
   "mimetype": "text/x-python",
   "name": "python",
   "nbconvert_exporter": "python",
   "pygments_lexer": "ipython2",
   "version": "2.7.13"
  }
 },
 "nbformat": 4,
 "nbformat_minor": 2
}
