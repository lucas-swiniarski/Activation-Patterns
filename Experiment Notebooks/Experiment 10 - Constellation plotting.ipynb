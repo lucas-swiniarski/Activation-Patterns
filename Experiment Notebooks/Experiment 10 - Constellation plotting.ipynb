{
 "cells": [
  {
   "cell_type": "code",
   "execution_count": 9,
   "metadata": {
    "collapsed": true
   },
   "outputs": [],
   "source": [
    "import torch\n",
    "from torch.autograd import Variable\n",
    "import torch.nn as nn\n",
    "import torch.nn.functional as F\n",
    "import torch.optim as optim\n",
    "\n",
    "import torchvision\n",
    "import torchvision.transforms as transforms\n",
    "\n",
    "import numpy as np\n",
    "import matplotlib.pyplot as plt\n",
    "\n",
    "from scipy.spatial.distance import pdist\n",
    "from sklearn.cluster import AgglomerativeClustering\n",
    "\n",
    "import networkx as nx\n",
    "\n",
    "from scipy.cluster.hierarchy import dendrogram, linkage"
   ]
  },
  {
   "cell_type": "code",
   "execution_count": 10,
   "metadata": {
    "collapsed": true
   },
   "outputs": [],
   "source": [
    "# Hyperparameters\n",
    "cuda = True\n",
    "epochs = 10\n",
    "log_interval = 400\n",
    "batchSize = 16\n",
    "\n",
    "hidden_layer_sizes = [3 * 32 * 32, 256, 10]\n",
    "\n",
    "lr = 0.001"
   ]
  },
  {
   "cell_type": "code",
   "execution_count": 11,
   "metadata": {},
   "outputs": [
    {
     "name": "stdout",
     "output_type": "stream",
     "text": [
      "Net (\n",
      "  (linears): ModuleList (\n",
      "    (0): Linear (3072 -> 256)\n",
      "    (1): Linear (256 -> 10)\n",
      "  )\n",
      ")\n"
     ]
    }
   ],
   "source": [
    "class Net(nn.Module):\n",
    "    def __init__(self):\n",
    "        super(Net, self).__init__()\n",
    "        self.linears = nn.ModuleList([nn.Linear(hidden_layer_sizes[i], hidden_layer_sizes[i+1]) for i in range(len(hidden_layer_sizes) - 1)])        \n",
    "        # self.init_layers()\n",
    "        \n",
    "    def init_layers(self):\n",
    "        \n",
    "        for i, l in enumerate(self.linears):            \n",
    "            norms = torch.norm(self.linears[i].weight.data, 2, 0).repeat(self.linears[i].weight.size(0), 1)\n",
    "            self.linears[i].weight.data = self.linears[i].weight.data.div(norms * 0.587)\n",
    "            \n",
    "            bias = torch.FloatTensor(self.linears[i].weight.data.size(1), 1).fill_(.001)\n",
    "            bias = torch.mm(self.linears[i].weight.data, bias)\n",
    "            self.linears[i].bias.data.copy_(bias)\n",
    "            \n",
    "\n",
    "    def forward(self, x):\n",
    "        activations = 0\n",
    "        x = x.view(-1, 3 * 32 * 32)\n",
    "        for i, l in enumerate(self.linears):\n",
    "            x = F.relu(l(x))\n",
    "            if i + 2 == len(hidden_layer_sizes):\n",
    "                break\n",
    "            if type(activations) is np.ndarray:\n",
    "                activations = np.append(activations, np.expand_dims(torch.sign(x).cpu().data.numpy(), axis=1), axis=1)\n",
    "            else:\n",
    "                activations = np.expand_dims(torch.sign(x).cpu().data.numpy(), axis=1)\n",
    "        return x, activations\n",
    "    \n",
    "model = Net()\n",
    "print(model)\n",
    "\n",
    "criterion = nn.CrossEntropyLoss()\n",
    "optimizer = optim.SGD(model.parameters(), lr=lr, momentum=0.9)"
   ]
  },
  {
   "cell_type": "code",
   "execution_count": 12,
   "metadata": {
    "collapsed": true
   },
   "outputs": [],
   "source": [
    "class Constellation():\n",
    "    \n",
    "    train_activations = 0\n",
    "    \n",
    "    def __init__(self):\n",
    "        self.train_activations = 0\n",
    "    \n",
    "    def train_add(self, x, y):\n",
    "        if type(self.train_activations) is np.ndarray:\n",
    "            self.train_activations = np.append(self.train_activations, x, axis=0)\n",
    "            self.train_labels = np.append(self.train_labels, y, axis=0)\n",
    "        else:\n",
    "            self.train_activations = x\n",
    "            self.train_labels = y\n",
    "    \n",
    "    def num_linkage_below_threshold(self, Z, distance, num_elem):\n",
    "        elem_in_linkage = len(Z)\n",
    "        count_clusters = 0\n",
    "        elems_seen = {}\n",
    "        \n",
    "        for i in Z:\n",
    "            # Check if this cluster is made with a good distance.\n",
    "            if i[2] <= distance:\n",
    "                count_clusters += 1\n",
    "                if i[0] >= elem_in_linkage:\n",
    "                    count_clusters -= 1\n",
    "                else:\n",
    "                    elems_seen[i[0]] = 1\n",
    "                if i[1] >= elem_in_linkage:\n",
    "                    count_clusters -= 1 \n",
    "                else:\n",
    "                    elems_seen[i[1]] = 1\n",
    "        count_clusters += num_elem - len(elems_seen.keys())\n",
    "        \n",
    "        # print('Number of clusters :%d ' % (count_clusters))\n",
    "        return count_clusters\n",
    "    \n",
    "    def curve_clusters_count(self, Z, num_elem):\n",
    "        X = np.arange(10, 200, 10)\n",
    "        Y = []\n",
    "        for i in X:\n",
    "            Y += [self.num_linkage_below_threshold(Z, i, num_elem)]\n",
    "        plt.plot(X, Y)\n",
    "        plt.xlim(10, 200)\n",
    "        plt.show()\n",
    "                \n",
    "        \n",
    "    def print_metrics(self):\n",
    "        print('Linkage ...')\n",
    "        Z = linkage(256 * pdist(self.train_activations[:,0], metric='hamming'), 'complete', metric='precomputed')\n",
    "        print('Linkage count ...')\n",
    "        self.curve_clusters_count(Z, self.train_activations.shape[0])\n",
    "#         print('Plot ...')\n",
    "#         plt.figure(figsize=(25, 10))\n",
    "#         plt.title('Hierarchical Clustering Dendrogram')\n",
    "#         plt.xlabel('sample index')\n",
    "#         plt.ylabel('distance')\n",
    "#         dendrogram(\n",
    "#             Z,\n",
    "#             leaf_rotation=90.,  # rotates the x axis labels\n",
    "#             leaf_font_size=8.,  # font size for the x axis labels\n",
    "#             color_threshold = 100\n",
    "#         )\n",
    "#         plt.show()\n",
    "        \n",
    "        \n",
    "        "
   ]
  },
  {
   "cell_type": "code",
   "execution_count": 13,
   "metadata": {},
   "outputs": [
    {
     "name": "stdout",
     "output_type": "stream",
     "text": [
      "Files already downloaded and verified\n",
      "Files already downloaded and verified\n"
     ]
    }
   ],
   "source": [
    "transform = transforms.Compose(\n",
    "    [transforms.ToTensor(),\n",
    "     transforms.Normalize((0.5, 0.5, 0.5), (0.5, 0.5, 0.5))])\n",
    "\n",
    "trainset = torchvision.datasets.CIFAR10(root='./data', train=True,\n",
    "                                        download=True, transform=transform)\n",
    "trainloader = torch.utils.data.DataLoader(trainset, batch_size=batchSize,\n",
    "                                          shuffle=True, num_workers=2)\n",
    "\n",
    "testset = torchvision.datasets.CIFAR10(root='./data', train=False,\n",
    "                                       download=True, transform=transform)\n",
    "testloader = torch.utils.data.DataLoader(testset, batch_size=batchSize,\n",
    "                                         shuffle=False, num_workers=2)\n",
    "\n",
    "classes = ('plane', 'car', 'bird', 'cat',\n",
    "           'deer', 'dog', 'frog', 'horse', 'ship', 'truck')"
   ]
  },
  {
   "cell_type": "code",
   "execution_count": 14,
   "metadata": {
    "collapsed": true
   },
   "outputs": [],
   "source": [
    "if cuda:\n",
    "    model.cuda()\n",
    "    criterion.cuda()"
   ]
  },
  {
   "cell_type": "code",
   "execution_count": 15,
   "metadata": {
    "collapsed": true
   },
   "outputs": [],
   "source": [
    "def train(epoch):\n",
    "    model.train()\n",
    "    for batch_idx, (data, target) in enumerate(trainloader):\n",
    "        if cuda:\n",
    "            data, target = data.cuda(), target.cuda()\n",
    "        data, target = Variable(data), Variable(target)\n",
    "        optimizer.zero_grad()\n",
    "        output, activations = model(data)\n",
    "        loss = criterion(output, target)\n",
    "        loss.backward()\n",
    "        optimizer.step()\n",
    "        if batch_idx % log_interval == 0:\n",
    "            print('Train Epoch: {} [{}/{} ({:.0f}%)]\\tLoss: {:.6f}'.format(\n",
    "                epoch, batch_idx * len(data), len(trainloader.dataset),\n",
    "                100. * batch_idx / len(trainloader), loss.data[0]))\n",
    "\n",
    "def test(epoch):\n",
    "    model.eval()\n",
    "    test_loss = 0\n",
    "    correct = 0\n",
    "    for data, target in testloader:\n",
    "        if cuda:\n",
    "            data, target = data.cuda(), target.cuda()\n",
    "        data, target = Variable(data, volatile=True), Variable(target)\n",
    "        output, activations = model(data)\n",
    "        test_loss += criterion(output, target).data[0]\n",
    "        pred = output.data.max(1)[1] # get the index of the max log-probability\n",
    "        correct += pred.eq(target.data).cpu().sum()\n",
    "\n",
    "    test_loss = test_loss\n",
    "    test_loss /= len(testloader) # loss function already averages over batch size\n",
    "    print('\\nTest set: Average loss: {:.4f}, Accuracy: {}/{} ({:.0f}%)\\n'.format(\n",
    "        test_loss, correct, len(testloader.dataset),\n",
    "        100. * correct / len(testloader.dataset)))\n",
    "    \n",
    "def activation_metrics():\n",
    "    metrics = Constellation()\n",
    "    for batch_idx, (data, target) in enumerate(trainloader):\n",
    "        if cuda:\n",
    "            data, target = data.cuda(), target.cuda()\n",
    "        data, target = Variable(data), Variable(target)\n",
    "        output, activations = model(data)\n",
    "        metrics.train_add(activations, target.cpu().data.numpy())\n",
    "        if batch_idx > 1000:\n",
    "            break\n",
    "#     for batch_idx, (data, target) in enumerate(testloader):\n",
    "#         if cuda:\n",
    "#             data, target = data.cuda(), target.cuda()\n",
    "#         data, target = Variable(data), Variable(target)\n",
    "#         output, activations = model(data)\n",
    "#         metrics.test_add(activations, target.cpu().data.numpy())\n",
    "        \n",
    "    metrics.print_metrics()"
   ]
  },
  {
   "cell_type": "code",
   "execution_count": 16,
   "metadata": {},
   "outputs": [
    {
     "name": "stdout",
     "output_type": "stream",
     "text": [
      "Linkage ...\n",
      "Linkage count ...\n"
     ]
    },
    {
     "data": {
      "image/png": "[encoded data removed]",
      "text/plain": [
       "<matplotlib.figure.Figure at 0x7f90594615d0>"
      ]
     },
     "metadata": {},
     "output_type": "display_data"
    },
    {
     "name": "stdout",
     "output_type": "stream",
     "text": [
      "Train Epoch: 1 [0/50000 (0%)]\tLoss: 2.322587\n",
      "Train Epoch: 1 [6400/50000 (13%)]\tLoss: 2.094848\n",
      "Train Epoch: 1 [12800/50000 (26%)]\tLoss: 2.373034\n",
      "Train Epoch: 1 [19200/50000 (38%)]\tLoss: 1.463925\n",
      "Train Epoch: 1 [25600/50000 (51%)]\tLoss: 1.803776\n",
      "Train Epoch: 1 [32000/50000 (64%)]\tLoss: 1.781318\n",
      "Train Epoch: 1 [38400/50000 (77%)]\tLoss: 1.999379\n",
      "Train Epoch: 1 [44800/50000 (90%)]\tLoss: 1.983774\n",
      "\n",
      "Test set: Average loss: 1.5569, Accuracy: 4576/10000 (46%)\n",
      "\n",
      "Linkage ...\n",
      "Linkage count ...\n"
     ]
    },
    {
     "data": {
      "image/png": "[encoded data removed]",
      "text/plain": [
       "<matplotlib.figure.Figure at 0x7f905932cc10>"
      ]
     },
     "metadata": {},
     "output_type": "display_data"
    },
    {
     "name": "stdout",
     "output_type": "stream",
     "text": [
      "Train Epoch: 2 [0/50000 (0%)]\tLoss: 1.104328\n",
      "Train Epoch: 2 [6400/50000 (13%)]\tLoss: 1.481852\n",
      "Train Epoch: 2 [12800/50000 (26%)]\tLoss: 1.170340\n",
      "Train Epoch: 2 [19200/50000 (38%)]\tLoss: 1.528749\n",
      "Train Epoch: 2 [25600/50000 (51%)]\tLoss: 1.789408\n",
      "Train Epoch: 2 [32000/50000 (64%)]\tLoss: 2.000882\n",
      "Train Epoch: 2 [38400/50000 (77%)]\tLoss: 1.804460\n",
      "Train Epoch: 2 [44800/50000 (90%)]\tLoss: 1.692307\n",
      "\n",
      "Test set: Average loss: 1.4699, Accuracy: 4876/10000 (49%)\n",
      "\n",
      "Linkage ...\n",
      "Linkage count ...\n"
     ]
    },
    {
     "data": {
      "image/png": "[encoded data removed]",
      "text/plain": [
       "<matplotlib.figure.Figure at 0x7f9059337fd0>"
      ]
     },
     "metadata": {},
     "output_type": "display_data"
    },
    {
     "name": "stdout",
     "output_type": "stream",
     "text": [
      "Train Epoch: 3 [0/50000 (0%)]\tLoss: 1.500077\n",
      "Train Epoch: 3 [6400/50000 (13%)]\tLoss: 1.258272\n",
      "Train Epoch: 3 [12800/50000 (26%)]\tLoss: 1.241004\n",
      "Train Epoch: 3 [19200/50000 (38%)]\tLoss: 1.977957\n",
      "Train Epoch: 3 [25600/50000 (51%)]\tLoss: 1.083735\n",
      "Train Epoch: 3 [32000/50000 (64%)]\tLoss: 1.445645\n",
      "Train Epoch: 3 [38400/50000 (77%)]\tLoss: 1.218001\n",
      "Train Epoch: 3 [44800/50000 (90%)]\tLoss: 1.313050\n",
      "\n",
      "Test set: Average loss: 1.4309, Accuracy: 4979/10000 (50%)\n",
      "\n",
      "Linkage ...\n",
      "Linkage count ...\n"
     ]
    },
    {
     "data": {
      "image/png": "[encoded data removed]",
      "text/plain": [
       "<matplotlib.figure.Figure at 0x7f9054e4b3d0>"
      ]
     },
     "metadata": {},
     "output_type": "display_data"
    },
    {
     "name": "stdout",
     "output_type": "stream",
     "text": [
      "Train Epoch: 4 [0/50000 (0%)]\tLoss: 1.217783\n",
      "Train Epoch: 4 [6400/50000 (13%)]\tLoss: 0.969058\n",
      "Train Epoch: 4 [12800/50000 (26%)]\tLoss: 1.399604\n",
      "Train Epoch: 4 [19200/50000 (38%)]\tLoss: 1.520887\n",
      "Train Epoch: 4 [25600/50000 (51%)]\tLoss: 0.984508\n",
      "Train Epoch: 4 [32000/50000 (64%)]\tLoss: 1.043467\n",
      "Train Epoch: 4 [38400/50000 (77%)]\tLoss: 2.104485\n",
      "Train Epoch: 4 [44800/50000 (90%)]\tLoss: 0.814520\n",
      "\n",
      "Test set: Average loss: 1.4090, Accuracy: 5094/10000 (51%)\n",
      "\n",
      "Linkage ...\n",
      "Linkage count ...\n"
     ]
    },
    {
     "data": {
      "image/png": "[encoded data removed]",
      "text/plain": [
       "<matplotlib.figure.Figure at 0x7f9054e42590>"
      ]
     },
     "metadata": {},
     "output_type": "display_data"
    },
    {
     "name": "stdout",
     "output_type": "stream",
     "text": [
      "Train Epoch: 5 [0/50000 (0%)]\tLoss: 1.398757\n",
      "Train Epoch: 5 [6400/50000 (13%)]\tLoss: 1.036614\n",
      "Train Epoch: 5 [12800/50000 (26%)]\tLoss: 1.416179\n",
      "Train Epoch: 5 [19200/50000 (38%)]\tLoss: 1.358893\n",
      "Train Epoch: 5 [25600/50000 (51%)]\tLoss: 1.892080\n",
      "Train Epoch: 5 [32000/50000 (64%)]\tLoss: 1.326223\n",
      "Train Epoch: 5 [38400/50000 (77%)]\tLoss: 1.439029\n",
      "Train Epoch: 5 [44800/50000 (90%)]\tLoss: 1.222837\n",
      "\n",
      "Test set: Average loss: 1.3852, Accuracy: 5163/10000 (52%)\n",
      "\n",
      "Linkage ...\n",
      "Linkage count ...\n"
     ]
    },
    {
     "data": {
      "image/png": "[encoded data removed]",
      "text/plain": [
       "<matplotlib.figure.Figure at 0x7f9054e4b190>"
      ]
     },
     "metadata": {},
     "output_type": "display_data"
    },
    {
     "name": "stdout",
     "output_type": "stream",
     "text": [
      "Train Epoch: 6 [0/50000 (0%)]\tLoss: 1.048606\n",
      "Train Epoch: 6 [6400/50000 (13%)]\tLoss: 1.565873\n",
      "Train Epoch: 6 [12800/50000 (26%)]\tLoss: 1.114115\n",
      "Train Epoch: 6 [19200/50000 (38%)]\tLoss: 1.419946\n",
      "Train Epoch: 6 [25600/50000 (51%)]\tLoss: 1.386181\n",
      "Train Epoch: 6 [32000/50000 (64%)]\tLoss: 1.122224\n",
      "Train Epoch: 6 [38400/50000 (77%)]\tLoss: 1.025322\n",
      "Train Epoch: 6 [44800/50000 (90%)]\tLoss: 0.590961\n"
     ]
    },
    {
     "name": "stderr",
     "output_type": "stream",
     "text": [
      "Process Process-35:\n",
      "Process Process-36:\n",
      "Traceback (most recent call last):\n",
      "  File \"/home/lucas/anaconda2/lib/python2.7/multiprocessing/process.py\", line 258, in _bootstrap\n",
      "Traceback (most recent call last):\n",
      "  File \"/home/lucas/anaconda2/lib/python2.7/multiprocessing/process.py\", line 258, in _bootstrap\n",
      "    self.run()\n",
      "    self.run()\n",
      "  File \"/home/lucas/anaconda2/lib/python2.7/multiprocessing/process.py\", line 114, in run\n",
      "    self._target(*self._args, **self._kwargs)\n",
      "  File \"/home/lucas/anaconda2/lib/python2.7/multiprocessing/process.py\", line 114, in run\n",
      "  File \"/home/lucas/anaconda2/lib/python2.7/site-packages/torch/utils/data/dataloader.py\", line 35, in _worker_loop\n",
      "    self._target(*self._args, **self._kwargs)\n",
      "  File \"/home/lucas/anaconda2/lib/python2.7/site-packages/torch/utils/data/dataloader.py\", line 41, in _worker_loop\n",
      "    r = index_queue.get()\n",
      "    samples = collate_fn([dataset[i] for i in batch_indices])\n",
      "  File \"/home/lucas/anaconda2/lib/python2.7/multiprocessing/queues.py\", line 378, in get\n",
      "  File \"/home/lucas/anaconda2/lib/python2.7/site-packages/torchvision-0.1.8-py2.7.egg/torchvision/datasets/cifar.py\", line 96, in __getitem__\n",
      "    return recv()\n",
      "  File \"/home/lucas/anaconda2/lib/python2.7/site-packages/torch/multiprocessing/queue.py\", line 21, in recv\n",
      "    img = Image.fromarray(img)\n",
      "  File \"/home/lucas/anaconda2/lib/python2.7/site-packages/PIL/Image.py\", line 2284, in fromarray\n",
      "    buf = self.recv_bytes()\n",
      "KeyboardInterrupt\n",
      "    arr = obj.__array_interface__\n",
      "KeyboardInterrupt\n"
     ]
    },
    {
     "ename": "KeyboardInterrupt",
     "evalue": "",
     "output_type": "error",
     "traceback": [
      "\u001b[0;31m---------------------------------------------------------------------------\u001b[0m",
      "\u001b[0;31mKeyboardInterrupt\u001b[0m                         Traceback (most recent call last)",
      "\u001b[0;32m<ipython-input-16-0d9f9449bdce>\u001b[0m in \u001b[0;36m<module>\u001b[0;34m()\u001b[0m\n\u001b[1;32m      3\u001b[0m \u001b[0;32mfor\u001b[0m \u001b[0mepoch\u001b[0m \u001b[0;32min\u001b[0m \u001b[0mrange\u001b[0m\u001b[0;34m(\u001b[0m\u001b[0;36m1\u001b[0m\u001b[0;34m,\u001b[0m \u001b[0mepochs\u001b[0m \u001b[0;34m+\u001b[0m \u001b[0;36m1\u001b[0m\u001b[0;34m)\u001b[0m\u001b[0;34m:\u001b[0m\u001b[0;34m\u001b[0m\u001b[0m\n\u001b[1;32m      4\u001b[0m     \u001b[0mactivation_metrics\u001b[0m\u001b[0;34m(\u001b[0m\u001b[0;34m)\u001b[0m\u001b[0;34m\u001b[0m\u001b[0m\n\u001b[0;32m----> 5\u001b[0;31m     \u001b[0mtrain\u001b[0m\u001b[0;34m(\u001b[0m\u001b[0mepoch\u001b[0m\u001b[0;34m)\u001b[0m\u001b[0;34m\u001b[0m\u001b[0m\n\u001b[0m\u001b[1;32m      6\u001b[0m     \u001b[0mtest\u001b[0m\u001b[0;34m(\u001b[0m\u001b[0mepoch\u001b[0m\u001b[0;34m)\u001b[0m\u001b[0;34m\u001b[0m\u001b[0m\n",
      "\u001b[0;32m<ipython-input-15-ac7971b755b4>\u001b[0m in \u001b[0;36mtrain\u001b[0;34m(epoch)\u001b[0m\n\u001b[1;32m      8\u001b[0m         \u001b[0moutput\u001b[0m\u001b[0;34m,\u001b[0m \u001b[0mactivations\u001b[0m \u001b[0;34m=\u001b[0m \u001b[0mmodel\u001b[0m\u001b[0;34m(\u001b[0m\u001b[0mdata\u001b[0m\u001b[0;34m)\u001b[0m\u001b[0;34m\u001b[0m\u001b[0m\n\u001b[1;32m      9\u001b[0m         \u001b[0mloss\u001b[0m \u001b[0;34m=\u001b[0m \u001b[0mcriterion\u001b[0m\u001b[0;34m(\u001b[0m\u001b[0moutput\u001b[0m\u001b[0;34m,\u001b[0m \u001b[0mtarget\u001b[0m\u001b[0;34m)\u001b[0m\u001b[0;34m\u001b[0m\u001b[0m\n\u001b[0;32m---> 10\u001b[0;31m         \u001b[0mloss\u001b[0m\u001b[0;34m.\u001b[0m\u001b[0mbackward\u001b[0m\u001b[0;34m(\u001b[0m\u001b[0;34m)\u001b[0m\u001b[0;34m\u001b[0m\u001b[0m\n\u001b[0m\u001b[1;32m     11\u001b[0m         \u001b[0moptimizer\u001b[0m\u001b[0;34m.\u001b[0m\u001b[0mstep\u001b[0m\u001b[0;34m(\u001b[0m\u001b[0;34m)\u001b[0m\u001b[0;34m\u001b[0m\u001b[0m\n\u001b[1;32m     12\u001b[0m         \u001b[0;32mif\u001b[0m \u001b[0mbatch_idx\u001b[0m \u001b[0;34m%\u001b[0m \u001b[0mlog_interval\u001b[0m \u001b[0;34m==\u001b[0m \u001b[0;36m0\u001b[0m\u001b[0;34m:\u001b[0m\u001b[0;34m\u001b[0m\u001b[0m\n",
      "\u001b[0;32m/home/lucas/anaconda2/lib/python2.7/site-packages/torch/autograd/variable.pyc\u001b[0m in \u001b[0;36mbackward\u001b[0;34m(self, gradient, retain_variables)\u001b[0m\n\u001b[1;32m    144\u001b[0m                     'or with gradient w.r.t. the variable')\n\u001b[1;32m    145\u001b[0m             \u001b[0mgradient\u001b[0m \u001b[0;34m=\u001b[0m \u001b[0mself\u001b[0m\u001b[0;34m.\u001b[0m\u001b[0mdata\u001b[0m\u001b[0;34m.\u001b[0m\u001b[0mnew\u001b[0m\u001b[0;34m(\u001b[0m\u001b[0;34m)\u001b[0m\u001b[0;34m.\u001b[0m\u001b[0mresize_as_\u001b[0m\u001b[0;34m(\u001b[0m\u001b[0mself\u001b[0m\u001b[0;34m.\u001b[0m\u001b[0mdata\u001b[0m\u001b[0;34m)\u001b[0m\u001b[0;34m.\u001b[0m\u001b[0mfill_\u001b[0m\u001b[0;34m(\u001b[0m\u001b[0;36m1\u001b[0m\u001b[0;34m)\u001b[0m\u001b[0;34m\u001b[0m\u001b[0m\n\u001b[0;32m--> 146\u001b[0;31m         \u001b[0mself\u001b[0m\u001b[0;34m.\u001b[0m\u001b[0m_execution_engine\u001b[0m\u001b[0;34m.\u001b[0m\u001b[0mrun_backward\u001b[0m\u001b[0;34m(\u001b[0m\u001b[0;34m(\u001b[0m\u001b[0mself\u001b[0m\u001b[0;34m,\u001b[0m\u001b[0;34m)\u001b[0m\u001b[0;34m,\u001b[0m \u001b[0;34m(\u001b[0m\u001b[0mgradient\u001b[0m\u001b[0;34m,\u001b[0m\u001b[0;34m)\u001b[0m\u001b[0;34m,\u001b[0m \u001b[0mretain_variables\u001b[0m\u001b[0;34m)\u001b[0m\u001b[0;34m\u001b[0m\u001b[0m\n\u001b[0m\u001b[1;32m    147\u001b[0m \u001b[0;34m\u001b[0m\u001b[0m\n\u001b[1;32m    148\u001b[0m     \u001b[0;32mdef\u001b[0m \u001b[0mregister_hook\u001b[0m\u001b[0;34m(\u001b[0m\u001b[0mself\u001b[0m\u001b[0;34m,\u001b[0m \u001b[0mhook\u001b[0m\u001b[0;34m)\u001b[0m\u001b[0;34m:\u001b[0m\u001b[0;34m\u001b[0m\u001b[0m\n",
      "\u001b[0;31mKeyboardInterrupt\u001b[0m: "
     ]
    }
   ],
   "source": [
    "# activation_metrics()\n",
    "\n",
    "for epoch in range(1, epochs + 1):\n",
    "    activation_metrics()\n",
    "    train(epoch)\n",
    "    test(epoch)"
   ]
  },
  {
   "cell_type": "code",
   "execution_count": null,
   "metadata": {},
   "outputs": [],
   "source": []
  },
  {
   "cell_type": "code",
   "execution_count": null,
   "metadata": {
    "collapsed": true
   },
   "outputs": [],
   "source": []
  }
 ],
 "metadata": {
  "kernelspec": {
   "display_name": "Python 2",
   "language": "python",
   "name": "python2"
  },
  "language_info": {
   "codemirror_mode": {
    "name": "ipython",
    "version": 2
   },
   "file_extension": ".py",
   "mimetype": "text/x-python",
   "name": "python",
   "nbconvert_exporter": "python",
   "pygments_lexer": "ipython2",
   "version": "2.7.13"
  }
 },
 "nbformat": 4,
 "nbformat_minor": 2
}
