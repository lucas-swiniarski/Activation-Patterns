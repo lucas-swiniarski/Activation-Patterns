{
 "cells": [
  {
   "cell_type": "code",
   "execution_count": 3,
   "metadata": {
    "collapsed": true
   },
   "outputs": [],
   "source": [
    "import torch\n",
    "from torch.autograd import Variable\n",
    "import torch.nn as nn\n",
    "import torch.nn.functional as F\n",
    "import torch.optim as optim\n",
    "\n",
    "import torchvision\n",
    "import torchvision.transforms as transforms\n",
    "\n",
    "import numpy as np\n",
    "import matplotlib.pyplot as plt\n",
    "\n",
    "from sklearn.manifold import TSNE\n",
    "\n",
    "from scipy.stats import bernoulli\n",
    "\n",
    "%matplotlib inline"
   ]
  },
  {
   "cell_type": "code",
   "execution_count": 4,
   "metadata": {
    "collapsed": true
   },
   "outputs": [],
   "source": [
    "# Hyperparameters\n",
    "cuda = True\n",
    "epochs = 20\n",
    "log_interval = 400\n",
    "batchSize = 16\n",
    "\n",
    "hidden_layer_size = 64 * 3 * 3\n",
    "\n",
    "lr = 0.001"
   ]
  },
  {
   "cell_type": "code",
   "execution_count": 5,
   "metadata": {},
   "outputs": [
    {
     "name": "stdout",
     "output_type": "stream",
     "text": [
      "Net (\n",
      "  (conv1): Conv2d(3, 32, kernel_size=(5, 5), stride=(1, 1), padding=(2, 2))\n",
      "  (pool1): MaxPool2d (size=(3, 3), stride=(2, 2), dilation=(1, 1))\n",
      "  (bn1): BatchNorm2d(32, eps=1e-05, momentum=0.1, affine=True)\n",
      "  (conv2): Conv2d(32, 32, kernel_size=(5, 5), stride=(1, 1), padding=(2, 2))\n",
      "  (pool2): MaxPool2d (size=(3, 3), stride=(2, 2), dilation=(1, 1))\n",
      "  (bn2): BatchNorm2d(32, eps=1e-05, momentum=0.1, affine=True)\n",
      "  (conv3): Conv2d(32, 64, kernel_size=(5, 5), stride=(1, 1), padding=(2, 2))\n",
      "  (pool3): AvgPool2d (\n",
      "  )\n",
      "  (fc4): Linear (576 -> 10)\n",
      ")\n"
     ]
    }
   ],
   "source": [
    "class Net(nn.Module):\n",
    "    def __init__(self):\n",
    "        super(Net, self).__init__()\n",
    "        self.conv1 = nn.Conv2d(3, 32, 5, padding=2)\n",
    "        self.pool1 = nn.MaxPool2d(3, stride=2)\n",
    "        self.bn1 = nn.BatchNorm2d(32)\n",
    "        \n",
    "        self.conv2 = nn.Conv2d(32, 32, 5, padding=2)\n",
    "        self.pool2 = nn.MaxPool2d(3, stride=2)\n",
    "        self.bn2 = nn.BatchNorm2d(32)\n",
    "        \n",
    "        self.conv3 = nn.Conv2d(32, 64, 5, padding=2)\n",
    "        self.pool3 = nn.AvgPool2d(3, stride=2)\n",
    "        \n",
    "        self.fc4 = nn.Linear(64 * 3 * 3, 10)\n",
    "        \n",
    "\n",
    "    def forward(self, x):\n",
    "        activation_1 = F.relu(self.pool1(self.conv1(x)))\n",
    "        activation_2 = F.relu(self.pool2(self.conv2(self.bn1(activation_1))))\n",
    "        activation_3 = F.relu(self.pool3(self.conv3(self.bn2(activation_2))))\n",
    "        activation_3 = activation_3.view(-1, 64 * 3 * 3)\n",
    "        out = self.fc4(activation_3)\n",
    "        return out, [torch.sign(activation_1.view(-1, 32 * 15 * 15)), torch.sign(activation_2.view(-1, 32 * 7 * 7)), torch.sign(activation_3)]\n",
    "    \n",
    "model = Net()\n",
    "print(model)\n",
    "\n",
    "criterion = nn.CrossEntropyLoss()\n",
    "optimizer = optim.SGD(model.parameters(), lr=lr, momentum=0.9)"
   ]
  },
  {
   "cell_type": "code",
   "execution_count": 12,
   "metadata": {
    "collapsed": true
   },
   "outputs": [],
   "source": [
    "class ActivationFollower():\n",
    "    \n",
    "    train_activations = 0\n",
    "    train_labels = 0\n",
    "    test_activations = 0\n",
    "    test_labels = 0\n",
    "    \n",
    "    def __init__(self):\n",
    "        train_activations = 0\n",
    "        train_labels = 0\n",
    "        test_activations = 0\n",
    "        test_labels = 0\n",
    "    \n",
    "    def reset(self):\n",
    "        train_activations = 0\n",
    "        train_labels = 0\n",
    "        test_activations = 0\n",
    "        test_labels = 0\n",
    "    \n",
    "    def train_add(self, x, y):\n",
    "        if type(self.train_activations) is np.ndarray:\n",
    "            self.train_activations = np.append(self.train_activations, x, axis=0)\n",
    "            self.train_labels = np.append(self.train_labels, y, axis=0)\n",
    "        else:\n",
    "            self.train_activations = x\n",
    "            self.train_labels = y\n",
    "    \n",
    "    def test_add(self, x, y):\n",
    "        if type(self.test_activations) is np.ndarray:\n",
    "            self.test_activations = np.append(self.test_activations, x, axis=0)\n",
    "            self.test_labels = np.append(self.test_labels, y, axis=0)\n",
    "        else:\n",
    "            self.test_activations = x\n",
    "            self.test_labels = y\n",
    "        \n",
    "    def print_metrics(self):\n",
    "        bins = range(0, self.train_activations.shape[1])\n",
    "        indexes1 = np.random.choice(self.train_activations.shape[0], 10000)\n",
    "        indexes2 = np.random.choice(self.train_activations.shape[0], 10000)\n",
    "        \n",
    "        distances_layers = np.abs(self.train_activations[indexes1] - self.train_activations[indexes2]).sum(1)\n",
    "        print('Mean : %.2f, std : %.2f' % (distances_layers.mean(), distances_layers.std()) )\n",
    "        plt.hist(distances_layers, bins, label='Train')\n",
    "        plt.legend()\n",
    "        plt.title('Histogram of distances of activation patterns')\n",
    "        plt.show()\n",
    "        # Here sample and compute histogram of distances.\n",
    "        # Then Matrix with std of distances between classes.\n",
    "        "
   ]
  },
  {
   "cell_type": "code",
   "execution_count": 7,
   "metadata": {},
   "outputs": [
    {
     "name": "stdout",
     "output_type": "stream",
     "text": [
      "Files already downloaded and verified\n",
      "Files already downloaded and verified\n"
     ]
    }
   ],
   "source": [
    "transform = transforms.Compose(\n",
    "    [transforms.ToTensor(),\n",
    "     transforms.Normalize((0.5, 0.5, 0.5), (0.5, 0.5, 0.5))])\n",
    "\n",
    "trainset = torchvision.datasets.CIFAR10(root='./data', train=True,\n",
    "                                        download=True, transform=transform)\n",
    "trainloader = torch.utils.data.DataLoader(trainset, batch_size=batchSize,\n",
    "                                          shuffle=True, num_workers=2)\n",
    "\n",
    "testset = torchvision.datasets.CIFAR10(root='./data', train=False,\n",
    "                                       download=True, transform=transform)\n",
    "testloader = torch.utils.data.DataLoader(testset, batch_size=batchSize,\n",
    "                                         shuffle=False, num_workers=2)\n",
    "\n",
    "classes = ('plane', 'car', 'bird', 'cat',\n",
    "           'deer', 'dog', 'frog', 'horse', 'ship', 'truck')"
   ]
  },
  {
   "cell_type": "code",
   "execution_count": 8,
   "metadata": {
    "collapsed": true
   },
   "outputs": [],
   "source": [
    "if cuda:\n",
    "    model.cuda()\n",
    "    criterion.cuda()"
   ]
  },
  {
   "cell_type": "code",
   "execution_count": 9,
   "metadata": {
    "collapsed": true
   },
   "outputs": [],
   "source": [
    "def train(epoch):\n",
    "    model.train()\n",
    "    for batch_idx, (data, target) in enumerate(trainloader):\n",
    "        if cuda:\n",
    "            data, target = data.cuda(), target.cuda()\n",
    "        data, target = Variable(data), Variable(target)\n",
    "        optimizer.zero_grad()\n",
    "        output, activations = model(data)\n",
    "        loss = criterion(output, target)\n",
    "        loss.backward()\n",
    "        optimizer.step()\n",
    "        if batch_idx % log_interval == 0:\n",
    "            print('Train Epoch: {} [{}/{} ({:.0f}%)]\\tLoss: {:.6f}'.format(\n",
    "                epoch, batch_idx * len(data), len(trainloader.dataset),\n",
    "                100. * batch_idx / len(trainloader), loss.data[0]))\n",
    "\n",
    "def test(epoch):\n",
    "    model.eval()\n",
    "    test_loss = 0\n",
    "    correct = 0\n",
    "    for data, target in testloader:\n",
    "        if cuda:\n",
    "            data, target = data.cuda(), target.cuda()\n",
    "        data, target = Variable(data, volatile=True), Variable(target)\n",
    "        output, activations = model(data)\n",
    "        test_loss += criterion(output, target).data[0]\n",
    "        pred = output.data.max(1)[1] # get the index of the max log-probability\n",
    "        correct += pred.eq(target.data).cpu().sum()\n",
    "\n",
    "    test_loss = test_loss\n",
    "    test_loss /= len(testloader) # loss function already averages over batch size\n",
    "    print('\\nTest set: Average loss: {:.4f}, Accuracy: {}/{} ({:.0f}%)\\n'.format(\n",
    "        test_loss, correct, len(testloader.dataset),\n",
    "        100. * correct / len(testloader.dataset)))\n",
    "    \n",
    "def activation_metrics():\n",
    "    metrics_l1 = ActivationFollower()\n",
    "    metrics_l2 = ActivationFollower()\n",
    "    metrics_l3 = ActivationFollower()\n",
    "    for batch_idx, (data, target) in enumerate(trainloader):\n",
    "        if cuda:\n",
    "            data, target = data.cuda(), target.cuda()\n",
    "        data, target = Variable(data), Variable(target)\n",
    "        output, activations = model(data)\n",
    "        metrics_l1.train_add(activations[0].cpu().data.numpy(), target.cpu().data.numpy())\n",
    "        metrics_l2.train_add(activations[1].cpu().data.numpy(), target.cpu().data.numpy())\n",
    "        metrics_l3.train_add(activations[2].cpu().data.numpy(), target.cpu().data.numpy())\n",
    "        if batch_idx > 1000:\n",
    "            break\n",
    "        \n",
    "    print('Layer 1 : ----')\n",
    "    metrics_l1.print_metrics()\n",
    "    \n",
    "    print('Layer 2 : ----')\n",
    "    metrics_l2.print_metrics()\n",
    "    \n",
    "    print('Layer 3 : ----')\n",
    "    metrics_l3.print_metrics()\n"
   ]
  },
  {
   "cell_type": "code",
   "execution_count": 10,
   "metadata": {
    "scrolled": true
   },
   "outputs": [
    {
     "name": "stdout",
     "output_type": "stream",
     "text": [
      "Train Epoch: 1 [0/50000 (0%)]\tLoss: 2.314407\n",
      "Train Epoch: 1 [6400/50000 (13%)]\tLoss: 1.888169\n",
      "Train Epoch: 1 [12800/50000 (26%)]\tLoss: 1.120625\n",
      "Train Epoch: 1 [19200/50000 (38%)]\tLoss: 0.998301\n",
      "Train Epoch: 1 [25600/50000 (51%)]\tLoss: 1.080764\n",
      "Train Epoch: 1 [32000/50000 (64%)]\tLoss: 1.298387\n",
      "Train Epoch: 1 [38400/50000 (77%)]\tLoss: 1.081024\n",
      "Train Epoch: 1 [44800/50000 (90%)]\tLoss: 1.178546\n",
      "\n",
      "Test set: Average loss: 1.1595, Accuracy: 5815/10000 (58%)\n",
      "\n",
      "Train Epoch: 2 [0/50000 (0%)]\tLoss: 1.560688\n",
      "Train Epoch: 2 [6400/50000 (13%)]\tLoss: 1.408773\n",
      "Train Epoch: 2 [12800/50000 (26%)]\tLoss: 1.214661\n",
      "Train Epoch: 2 [19200/50000 (38%)]\tLoss: 0.771726\n",
      "Train Epoch: 2 [25600/50000 (51%)]\tLoss: 1.080116\n",
      "Train Epoch: 2 [32000/50000 (64%)]\tLoss: 1.036522\n",
      "Train Epoch: 2 [38400/50000 (77%)]\tLoss: 0.912761\n",
      "Train Epoch: 2 [44800/50000 (90%)]\tLoss: 1.378760\n",
      "\n",
      "Test set: Average loss: 0.9359, Accuracy: 6747/10000 (67%)\n",
      "\n",
      "Train Epoch: 3 [0/50000 (0%)]\tLoss: 0.577322\n",
      "Train Epoch: 3 [6400/50000 (13%)]\tLoss: 0.749438\n",
      "Train Epoch: 3 [12800/50000 (26%)]\tLoss: 1.536996\n",
      "Train Epoch: 3 [19200/50000 (38%)]\tLoss: 0.985761\n",
      "Train Epoch: 3 [25600/50000 (51%)]\tLoss: 0.831438\n",
      "Train Epoch: 3 [32000/50000 (64%)]\tLoss: 1.056434\n",
      "Train Epoch: 3 [38400/50000 (77%)]\tLoss: 0.773410\n",
      "Train Epoch: 3 [44800/50000 (90%)]\tLoss: 1.225010\n",
      "\n",
      "Test set: Average loss: 0.8692, Accuracy: 6965/10000 (70%)\n",
      "\n",
      "Train Epoch: 4 [0/50000 (0%)]\tLoss: 0.380871\n",
      "Train Epoch: 4 [6400/50000 (13%)]\tLoss: 0.980535\n",
      "Train Epoch: 4 [12800/50000 (26%)]\tLoss: 0.826481\n",
      "Train Epoch: 4 [19200/50000 (38%)]\tLoss: 0.866103\n",
      "Train Epoch: 4 [25600/50000 (51%)]\tLoss: 0.605738\n",
      "Train Epoch: 4 [32000/50000 (64%)]\tLoss: 1.299099\n",
      "Train Epoch: 4 [38400/50000 (77%)]\tLoss: 0.691034\n",
      "Train Epoch: 4 [44800/50000 (90%)]\tLoss: 1.302488\n",
      "\n",
      "Test set: Average loss: 0.8318, Accuracy: 7187/10000 (72%)\n",
      "\n",
      "Train Epoch: 5 [0/50000 (0%)]\tLoss: 1.146533\n",
      "Train Epoch: 5 [6400/50000 (13%)]\tLoss: 0.469263\n",
      "Train Epoch: 5 [12800/50000 (26%)]\tLoss: 0.825985\n",
      "Train Epoch: 5 [19200/50000 (38%)]\tLoss: 0.450309\n",
      "Train Epoch: 5 [25600/50000 (51%)]\tLoss: 0.507652\n",
      "Train Epoch: 5 [32000/50000 (64%)]\tLoss: 0.483941\n",
      "Train Epoch: 5 [38400/50000 (77%)]\tLoss: 0.868204\n",
      "Train Epoch: 5 [44800/50000 (90%)]\tLoss: 0.496443\n",
      "\n",
      "Test set: Average loss: 0.7816, Accuracy: 7312/10000 (73%)\n",
      "\n",
      "Train Epoch: 6 [0/50000 (0%)]\tLoss: 0.843734\n",
      "Train Epoch: 6 [6400/50000 (13%)]\tLoss: 0.889266\n",
      "Train Epoch: 6 [12800/50000 (26%)]\tLoss: 0.853019\n",
      "Train Epoch: 6 [19200/50000 (38%)]\tLoss: 0.390280\n",
      "Train Epoch: 6 [25600/50000 (51%)]\tLoss: 0.642171\n",
      "Train Epoch: 6 [32000/50000 (64%)]\tLoss: 0.527936\n",
      "Train Epoch: 6 [38400/50000 (77%)]\tLoss: 0.454946\n",
      "Train Epoch: 6 [44800/50000 (90%)]\tLoss: 0.597848\n",
      "\n",
      "Test set: Average loss: 0.7307, Accuracy: 7526/10000 (75%)\n",
      "\n",
      "Train Epoch: 7 [0/50000 (0%)]\tLoss: 0.706068\n",
      "Train Epoch: 7 [6400/50000 (13%)]\tLoss: 0.277895\n",
      "Train Epoch: 7 [12800/50000 (26%)]\tLoss: 0.845300\n",
      "Train Epoch: 7 [19200/50000 (38%)]\tLoss: 0.662879\n",
      "Train Epoch: 7 [25600/50000 (51%)]\tLoss: 1.282157\n",
      "Train Epoch: 7 [32000/50000 (64%)]\tLoss: 0.277472\n",
      "Train Epoch: 7 [38400/50000 (77%)]\tLoss: 0.983699\n",
      "Train Epoch: 7 [44800/50000 (90%)]\tLoss: 0.826628\n",
      "\n",
      "Test set: Average loss: 0.7559, Accuracy: 7391/10000 (74%)\n",
      "\n",
      "Train Epoch: 8 [0/50000 (0%)]\tLoss: 0.845541\n",
      "Train Epoch: 8 [6400/50000 (13%)]\tLoss: 0.625221\n",
      "Train Epoch: 8 [12800/50000 (26%)]\tLoss: 0.549886\n",
      "Train Epoch: 8 [19200/50000 (38%)]\tLoss: 0.304570\n",
      "Train Epoch: 8 [25600/50000 (51%)]\tLoss: 0.348561\n",
      "Train Epoch: 8 [32000/50000 (64%)]\tLoss: 0.209558\n",
      "Train Epoch: 8 [38400/50000 (77%)]\tLoss: 0.693025\n",
      "Train Epoch: 8 [44800/50000 (90%)]\tLoss: 0.486881\n",
      "\n",
      "Test set: Average loss: 0.7211, Accuracy: 7522/10000 (75%)\n",
      "\n",
      "Train Epoch: 9 [0/50000 (0%)]\tLoss: 1.203877\n",
      "Train Epoch: 9 [6400/50000 (13%)]\tLoss: 0.377044\n",
      "Train Epoch: 9 [12800/50000 (26%)]\tLoss: 0.231974\n",
      "Train Epoch: 9 [19200/50000 (38%)]\tLoss: 0.439794\n",
      "Train Epoch: 9 [25600/50000 (51%)]\tLoss: 0.792751\n",
      "Train Epoch: 9 [32000/50000 (64%)]\tLoss: 0.573177\n",
      "Train Epoch: 9 [38400/50000 (77%)]\tLoss: 0.629931\n",
      "Train Epoch: 9 [44800/50000 (90%)]\tLoss: 0.307047\n",
      "\n",
      "Test set: Average loss: 0.6967, Accuracy: 7619/10000 (76%)\n",
      "\n",
      "Train Epoch: 10 [0/50000 (0%)]\tLoss: 1.006392\n",
      "Train Epoch: 10 [6400/50000 (13%)]\tLoss: 0.828199\n",
      "Train Epoch: 10 [12800/50000 (26%)]\tLoss: 0.197246\n",
      "Train Epoch: 10 [19200/50000 (38%)]\tLoss: 0.279372\n",
      "Train Epoch: 10 [25600/50000 (51%)]\tLoss: 0.536835\n",
      "Train Epoch: 10 [32000/50000 (64%)]\tLoss: 0.678055\n",
      "Train Epoch: 10 [38400/50000 (77%)]\tLoss: 0.596178\n",
      "Train Epoch: 10 [44800/50000 (90%)]\tLoss: 0.702229\n",
      "\n",
      "Test set: Average loss: 0.7096, Accuracy: 7614/10000 (76%)\n",
      "\n",
      "Train Epoch: 11 [0/50000 (0%)]\tLoss: 0.511685\n",
      "Train Epoch: 11 [6400/50000 (13%)]\tLoss: 0.669077\n",
      "Train Epoch: 11 [12800/50000 (26%)]\tLoss: 0.174480\n",
      "Train Epoch: 11 [19200/50000 (38%)]\tLoss: 0.568671\n",
      "Train Epoch: 11 [25600/50000 (51%)]\tLoss: 0.568449\n",
      "Train Epoch: 11 [32000/50000 (64%)]\tLoss: 0.655160\n",
      "Train Epoch: 11 [38400/50000 (77%)]\tLoss: 0.529844\n",
      "Train Epoch: 11 [44800/50000 (90%)]\tLoss: 0.175431\n",
      "\n",
      "Test set: Average loss: 0.6805, Accuracy: 7700/10000 (77%)\n",
      "\n",
      "Train Epoch: 12 [0/50000 (0%)]\tLoss: 0.427892\n",
      "Train Epoch: 12 [6400/50000 (13%)]\tLoss: 0.542866\n",
      "Train Epoch: 12 [12800/50000 (26%)]\tLoss: 0.713992\n",
      "Train Epoch: 12 [19200/50000 (38%)]\tLoss: 0.462500\n",
      "Train Epoch: 12 [25600/50000 (51%)]\tLoss: 1.032478\n",
      "Train Epoch: 12 [32000/50000 (64%)]\tLoss: 0.524432\n",
      "Train Epoch: 12 [38400/50000 (77%)]\tLoss: 0.726535\n",
      "Train Epoch: 12 [44800/50000 (90%)]\tLoss: 0.754586\n",
      "\n",
      "Test set: Average loss: 0.6805, Accuracy: 7706/10000 (77%)\n",
      "\n",
      "Train Epoch: 13 [0/50000 (0%)]\tLoss: 0.583879\n",
      "Train Epoch: 13 [6400/50000 (13%)]\tLoss: 0.957830\n",
      "Train Epoch: 13 [12800/50000 (26%)]\tLoss: 0.629789\n",
      "Train Epoch: 13 [19200/50000 (38%)]\tLoss: 1.075611\n",
      "Train Epoch: 13 [25600/50000 (51%)]\tLoss: 0.673206\n",
      "Train Epoch: 13 [32000/50000 (64%)]\tLoss: 0.333456\n",
      "Train Epoch: 13 [38400/50000 (77%)]\tLoss: 0.952605\n",
      "Train Epoch: 13 [44800/50000 (90%)]\tLoss: 0.393014\n",
      "\n",
      "Test set: Average loss: 0.6829, Accuracy: 7698/10000 (77%)\n",
      "\n",
      "Train Epoch: 14 [0/50000 (0%)]\tLoss: 0.310695\n",
      "Train Epoch: 14 [6400/50000 (13%)]\tLoss: 0.614560\n",
      "Train Epoch: 14 [12800/50000 (26%)]\tLoss: 0.432612\n",
      "Train Epoch: 14 [19200/50000 (38%)]\tLoss: 0.438080\n",
      "Train Epoch: 14 [25600/50000 (51%)]\tLoss: 0.573941\n",
      "Train Epoch: 14 [32000/50000 (64%)]\tLoss: 0.051250\n",
      "Train Epoch: 14 [38400/50000 (77%)]\tLoss: 0.412646\n",
      "Train Epoch: 14 [44800/50000 (90%)]\tLoss: 0.456984\n",
      "\n",
      "Test set: Average loss: 0.6894, Accuracy: 7712/10000 (77%)\n",
      "\n",
      "Train Epoch: 15 [0/50000 (0%)]\tLoss: 0.483511\n",
      "Train Epoch: 15 [6400/50000 (13%)]\tLoss: 0.613869\n",
      "Train Epoch: 15 [12800/50000 (26%)]\tLoss: 0.512793\n",
      "Train Epoch: 15 [19200/50000 (38%)]\tLoss: 0.162215\n",
      "Train Epoch: 15 [25600/50000 (51%)]\tLoss: 0.630846\n",
      "Train Epoch: 15 [32000/50000 (64%)]\tLoss: 0.224341\n",
      "Train Epoch: 15 [38400/50000 (77%)]\tLoss: 0.533106\n",
      "Train Epoch: 15 [44800/50000 (90%)]\tLoss: 0.467662\n",
      "\n",
      "Test set: Average loss: 0.6890, Accuracy: 7659/10000 (77%)\n",
      "\n",
      "Train Epoch: 16 [0/50000 (0%)]\tLoss: 0.520728\n",
      "Train Epoch: 16 [6400/50000 (13%)]\tLoss: 0.610285\n",
      "Train Epoch: 16 [12800/50000 (26%)]\tLoss: 0.178562\n",
      "Train Epoch: 16 [19200/50000 (38%)]\tLoss: 0.345378\n",
      "Train Epoch: 16 [25600/50000 (51%)]\tLoss: 0.257956\n",
      "Train Epoch: 16 [32000/50000 (64%)]\tLoss: 0.640087\n",
      "Train Epoch: 16 [38400/50000 (77%)]\tLoss: 0.373001\n",
      "Train Epoch: 16 [44800/50000 (90%)]\tLoss: 0.533800\n",
      "\n",
      "Test set: Average loss: 0.6667, Accuracy: 7778/10000 (78%)\n",
      "\n",
      "Train Epoch: 17 [0/50000 (0%)]\tLoss: 0.319480\n",
      "Train Epoch: 17 [6400/50000 (13%)]\tLoss: 0.419514\n",
      "Train Epoch: 17 [12800/50000 (26%)]\tLoss: 0.429216\n",
      "Train Epoch: 17 [19200/50000 (38%)]\tLoss: 0.446227\n",
      "Train Epoch: 17 [25600/50000 (51%)]\tLoss: 0.698307\n",
      "Train Epoch: 17 [32000/50000 (64%)]\tLoss: 0.529399\n",
      "Train Epoch: 17 [38400/50000 (77%)]\tLoss: 0.373345\n",
      "Train Epoch: 17 [44800/50000 (90%)]\tLoss: 0.571837\n",
      "\n",
      "Test set: Average loss: 0.7016, Accuracy: 7712/10000 (77%)\n",
      "\n",
      "Train Epoch: 18 [0/50000 (0%)]\tLoss: 0.339967\n",
      "Train Epoch: 18 [6400/50000 (13%)]\tLoss: 0.321787\n",
      "Train Epoch: 18 [12800/50000 (26%)]\tLoss: 0.444673\n",
      "Train Epoch: 18 [19200/50000 (38%)]\tLoss: 0.302332\n",
      "Train Epoch: 18 [25600/50000 (51%)]\tLoss: 0.684497\n",
      "Train Epoch: 18 [32000/50000 (64%)]\tLoss: 0.726100\n",
      "Train Epoch: 18 [38400/50000 (77%)]\tLoss: 0.297746\n",
      "Train Epoch: 18 [44800/50000 (90%)]\tLoss: 0.332355\n"
     ]
    },
    {
     "name": "stdout",
     "output_type": "stream",
     "text": [
      "\n",
      "Test set: Average loss: 0.6834, Accuracy: 7765/10000 (78%)\n",
      "\n",
      "Train Epoch: 19 [0/50000 (0%)]\tLoss: 0.461671\n",
      "Train Epoch: 19 [6400/50000 (13%)]\tLoss: 0.171978\n",
      "Train Epoch: 19 [12800/50000 (26%)]\tLoss: 0.194717\n",
      "Train Epoch: 19 [19200/50000 (38%)]\tLoss: 0.264714\n",
      "Train Epoch: 19 [25600/50000 (51%)]\tLoss: 0.304059\n",
      "Train Epoch: 19 [32000/50000 (64%)]\tLoss: 0.445324\n",
      "Train Epoch: 19 [38400/50000 (77%)]\tLoss: 0.508186\n",
      "Train Epoch: 19 [44800/50000 (90%)]\tLoss: 0.106045\n",
      "\n",
      "Test set: Average loss: 0.7049, Accuracy: 7718/10000 (77%)\n",
      "\n",
      "Train Epoch: 20 [0/50000 (0%)]\tLoss: 0.322883\n",
      "Train Epoch: 20 [6400/50000 (13%)]\tLoss: 0.401589\n",
      "Train Epoch: 20 [12800/50000 (26%)]\tLoss: 0.465824\n",
      "Train Epoch: 20 [19200/50000 (38%)]\tLoss: 0.349880\n",
      "Train Epoch: 20 [25600/50000 (51%)]\tLoss: 0.562021\n",
      "Train Epoch: 20 [32000/50000 (64%)]\tLoss: 0.238480\n",
      "Train Epoch: 20 [38400/50000 (77%)]\tLoss: 0.237131\n",
      "Train Epoch: 20 [44800/50000 (90%)]\tLoss: 0.287310\n",
      "\n",
      "Test set: Average loss: 0.6869, Accuracy: 7792/10000 (78%)\n",
      "\n"
     ]
    }
   ],
   "source": [
    "# activation_metrics()\n",
    "\n",
    "for epoch in range(1, epochs + 1):\n",
    "    train(epoch)\n",
    "    test(epoch)"
   ]
  },
  {
   "cell_type": "code",
   "execution_count": 13,
   "metadata": {
    "scrolled": false
   },
   "outputs": [
    {
     "name": "stdout",
     "output_type": "stream",
     "text": [
      "Layer 1 : ----\n",
      "Mean : 2579.01, std : 387.24\n"
     ]
    },
    {
     "data": {
      "image/png": "[encoded data removed]",
      "text/plain": [
       "<matplotlib.figure.Figure at 0x7f4648564910>"
      ]
     },
     "metadata": {},
     "output_type": "display_data"
    },
    {
     "name": "stdout",
     "output_type": "stream",
     "text": [
      "Layer 2 : ----\n",
      "Mean : 644.06, std : 57.65\n"
     ]
    },
    {
     "data": {
      "image/png": "[encoded data removed]",
      "text/plain": [
       "<matplotlib.figure.Figure at 0x7f4605363d50>"
      ]
     },
     "metadata": {},
     "output_type": "display_data"
    },
    {
     "name": "stdout",
     "output_type": "stream",
     "text": [
      "Layer 3 : ----\n",
      "Mean : 270.26, std : 34.50\n"
     ]
    },
    {
     "data": {
      "image/png": "[encoded data removed]",
      "text/plain": [
       "<matplotlib.figure.Figure at 0x7f4669050fd0>"
      ]
     },
     "metadata": {},
     "output_type": "display_data"
    }
   ],
   "source": [
    "activation_metrics()"
   ]
  },
  {
   "cell_type": "code",
   "execution_count": 92,
   "metadata": {},
   "outputs": [
    {
     "name": "stdout",
     "output_type": "stream",
     "text": [
      "Layer 1 : ----\n",
      "(16032, 7200)\n"
     ]
    },
    {
     "data": {
      "image/png": "[encoded data removed]",
      "text/plain": [
       "<matplotlib.figure.Figure at 0x7ff8ec1e0f10>"
      ]
     },
     "metadata": {},
     "output_type": "display_data"
    },
    {
     "name": "stdout",
     "output_type": "stream",
     "text": [
      "Layer 2 : ----\n",
      "(16032, 1568)\n"
     ]
    },
    {
     "data": {
      "image/png": "[encoded data removed]",
      "text/plain": [
       "<matplotlib.figure.Figure at 0x7ff9218a5c90>"
      ]
     },
     "metadata": {},
     "output_type": "display_data"
    },
    {
     "name": "stdout",
     "output_type": "stream",
     "text": [
      "Layer 3 : ----\n",
      "(16032, 576)\n"
     ]
    },
    {
     "data": {
      "image/png": "[encoded data removed]",
      "text/plain": [
       "<matplotlib.figure.Figure at 0x7ff90eee2690>"
      ]
     },
     "metadata": {},
     "output_type": "display_data"
    }
   ],
   "source": [
    "activation_metrics()"
   ]
  },
  {
   "cell_type": "code",
   "execution_count": null,
   "metadata": {
    "collapsed": true
   },
   "outputs": [],
   "source": []
  }
 ],
 "metadata": {
  "kernelspec": {
   "display_name": "Python 2",
   "language": "python",
   "name": "python2"
  },
  "language_info": {
   "codemirror_mode": {
    "name": "ipython",
    "version": 2
   },
   "file_extension": ".py",
   "mimetype": "text/x-python",
   "name": "python",
   "nbconvert_exporter": "python",
   "pygments_lexer": "ipython2",
   "version": "2.7.13"
  }
 },
 "nbformat": 4,
 "nbformat_minor": 2
}
