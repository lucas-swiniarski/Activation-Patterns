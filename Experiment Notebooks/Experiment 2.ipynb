{
 "cells": [
  {
   "cell_type": "code",
   "execution_count": 6,
   "metadata": {
    "collapsed": true
   },
   "outputs": [],
   "source": [
    "import torch\n",
    "from torch.autograd import Variable\n",
    "import torch.nn as nn\n",
    "import torch.nn.functional as F\n",
    "import torch.optim as optim\n",
    "\n",
    "import torchvision\n",
    "import torchvision.transforms as transforms\n",
    "\n",
    "import numpy as np\n",
    "import matplotlib.pyplot as plt"
   ]
  },
  {
   "cell_type": "code",
   "execution_count": 7,
   "metadata": {
    "collapsed": true
   },
   "outputs": [],
   "source": [
    "# Hyperparameters\n",
    "cuda = True\n",
    "epochs = 10\n",
    "log_interval = 400\n",
    "batchSize = 16\n",
    "\n",
    "hidden_layer_size = 20\n",
    "\n",
    "lr = 0.001"
   ]
  },
  {
   "cell_type": "code",
   "execution_count": 8,
   "metadata": {
    "collapsed": false
   },
   "outputs": [
    {
     "name": "stdout",
     "output_type": "stream",
     "text": [
      "Net (\n",
      "  (fc1): Linear (3072 -> 20)\n",
      "  (fc2): Linear (20 -> 10)\n",
      ")\n"
     ]
    }
   ],
   "source": [
    "class Net(nn.Module):\n",
    "    def __init__(self):\n",
    "        super(Net, self).__init__()\n",
    "        self.fc1 = nn.Linear(3 * 32 * 32, hidden_layer_size)\n",
    "        self.fc2 = nn.Linear(hidden_layer_size, 10)\n",
    "\n",
    "    def forward(self, x):\n",
    "        x = x.view(-1, 3 * 32 * 32)\n",
    "        activation_1 = F.relu(self.fc1(x))\n",
    "        x = self.fc2(activation_1)\n",
    "        return x, activation_1\n",
    "    \n",
    "model = Net()\n",
    "print(model)\n",
    "\n",
    "criterion = nn.CrossEntropyLoss()\n",
    "optimizer = optim.SGD(model.parameters(), lr=lr, momentum=0.9)"
   ]
  },
  {
   "cell_type": "code",
   "execution_count": 14,
   "metadata": {
    "collapsed": true
   },
   "outputs": [],
   "source": [
    "class ActivationFollower():\n",
    "    \n",
    "    train_activations = 0\n",
    "    test_activations = 0\n",
    "    \n",
    "    def __init__(self):\n",
    "        self.train_activations = 0\n",
    "        self.test_activations = 0\n",
    "    \n",
    "    def reset(self):\n",
    "        train_activations = 0\n",
    "        test_activations = 0\n",
    "    \n",
    "    def train_add(self, x):\n",
    "        if type(self.train_activations) is np.ndarray:\n",
    "            self.train_activations = np.append(self.train_activations, x, axis=0)\n",
    "        else:\n",
    "            self.train_activations = x\n",
    "    \n",
    "    def test_add(self, x):\n",
    "        if type(self.test_activations) is np.ndarray:\n",
    "            self.test_activations = np.append(self.test_activations, x, axis=0)\n",
    "        else:\n",
    "            self.test_activations = x\n",
    "        \n",
    "    def print_metrics(self):\n",
    "        plt.figure(figsize=(20,10))\n",
    "        bins = np.logspace(-8, 2, 11)\n",
    "        plt.hist(np.where(self.train_activations == 0., 1, 0).mean(0))\n",
    "        plt.show()\n",
    "        for i in range(self.train_activations.shape[1]):\n",
    "            plt.hist(self.train_activations.transpose()[i], log=True, bins=bins)\n",
    "        plt.title('Histogram of activation values')\n",
    "        plt.gca().set_xscale(\"log\")\n",
    "        # plt.xlim(0.01, 20)\n",
    "        plt.show()\n",
    "        "
   ]
  },
  {
   "cell_type": "code",
   "execution_count": 15,
   "metadata": {
    "collapsed": false
   },
   "outputs": [
    {
     "name": "stdout",
     "output_type": "stream",
     "text": [
      "Files already downloaded and verified\n",
      "Files already downloaded and verified\n"
     ]
    }
   ],
   "source": [
    "transform = transforms.Compose(\n",
    "    [transforms.ToTensor(),\n",
    "     transforms.Normalize((0.5, 0.5, 0.5), (0.5, 0.5, 0.5))])\n",
    "\n",
    "trainset = torchvision.datasets.CIFAR10(root='./data', train=True,\n",
    "                                        download=True, transform=transform)\n",
    "trainloader = torch.utils.data.DataLoader(trainset, batch_size=batchSize,\n",
    "                                          shuffle=True, num_workers=2)\n",
    "\n",
    "testset = torchvision.datasets.CIFAR10(root='./data', train=False,\n",
    "                                       download=True, transform=transform)\n",
    "testloader = torch.utils.data.DataLoader(testset, batch_size=batchSize,\n",
    "                                         shuffle=False, num_workers=2)\n",
    "\n",
    "classes = ('plane', 'car', 'bird', 'cat',\n",
    "           'deer', 'dog', 'frog', 'horse', 'ship', 'truck')"
   ]
  },
  {
   "cell_type": "code",
   "execution_count": 16,
   "metadata": {
    "collapsed": false
   },
   "outputs": [],
   "source": [
    "if cuda:\n",
    "    model.cuda()\n",
    "    criterion.cuda()"
   ]
  },
  {
   "cell_type": "code",
   "execution_count": null,
   "metadata": {
    "collapsed": true
   },
   "outputs": [],
   "source": [
    "def train(epoch):\n",
    "    model.train()\n",
    "    for batch_idx, (data, target) in enumerate(trainloader):\n",
    "        if cuda:\n",
    "            data, target = data.cuda(), target.cuda()\n",
    "        data, target = Variable(data), Variable(target)\n",
    "        optimizer.zero_grad()\n",
    "        output, activations = model(data)\n",
    "        loss = criterion(output, target)\n",
    "        loss.backward()\n",
    "        optimizer.step()\n",
    "        if batch_idx % log_interval == 0:\n",
    "            print('Train Epoch: {} [{}/{} ({:.0f}%)]\\tLoss: {:.6f}'.format(\n",
    "                epoch, batch_idx * len(data), len(trainloader.dataset),\n",
    "                100. * batch_idx / len(trainloader), loss.data[0]))\n",
    "\n",
    "def test(epoch):\n",
    "    model.eval()\n",
    "    test_loss = 0\n",
    "    correct = 0\n",
    "    for data, target in testloader:\n",
    "        if cuda:\n",
    "            data, target = data.cuda(), target.cuda()\n",
    "        data, target = Variable(data, volatile=True), Variable(target)\n",
    "        output, activations = model(data)\n",
    "        test_loss += criterion(output, target).data[0]\n",
    "        pred = output.data.max(1)[1] # get the index of the max log-probability\n",
    "        correct += pred.eq(target.data).cpu().sum()\n",
    "\n",
    "    test_loss = test_loss\n",
    "    test_loss /= len(testloader) # loss function already averages over batch size\n",
    "    print('\\nTest set: Average loss: {:.4f}, Accuracy: {}/{} ({:.0f}%)\\n'.format(\n",
    "        test_loss, correct, len(testloader.dataset),\n",
    "        100. * correct / len(testloader.dataset)))\n",
    "    \n",
    "def activation_metrics():\n",
    "    metrics = ActivationFollower()\n",
    "    for batch_idx, (data, target) in enumerate(trainloader):\n",
    "        if cuda:\n",
    "            data, target = data.cuda(), target.cuda()\n",
    "        data, target = Variable(data), Variable(target)\n",
    "        output, activations = model(data)\n",
    "        metrics.train_add(activations.cpu().data.numpy())\n",
    "    for batch_idx, (data, target) in enumerate(testloader):\n",
    "        if cuda:\n",
    "            data, target = data.cuda(), target.cuda()\n",
    "        data, target = Variable(data), Variable(target)\n",
    "        output, activations = model(data)\n",
    "        metrics.test_add(activations.cpu().data.numpy())\n",
    "        \n",
    "    metrics.print_metrics()\n",
    "    return metrics"
   ]
  },
  {
   "cell_type": "code",
   "execution_count": null,
   "metadata": {
    "collapsed": false
   },
   "outputs": [
    {
     "data": {
      "image/png": "[encoded data removed]",
      "text/plain": [
       "<matplotlib.figure.Figure at 0x7fcbf0efc890>"
      ]
     },
     "metadata": {},
     "output_type": "display_data"
    },
    {
     "data": {
      "image/png": "[encoded data removed]",
      "text/plain": [
       "<matplotlib.figure.Figure at 0x7fcc0a098b10>"
      ]
     },
     "metadata": {},
     "output_type": "display_data"
    },
    {
     "name": "stdout",
     "output_type": "stream",
     "text": [
      "Train Epoch: 1 [0/50000 (0%)]\tLoss: 1.383096\n",
      "Train Epoch: 1 [6400/50000 (13%)]\tLoss: 1.688735\n",
      "Train Epoch: 1 [12800/50000 (26%)]\tLoss: 1.418925\n",
      "Train Epoch: 1 [19200/50000 (38%)]\tLoss: 1.475759\n",
      "Train Epoch: 1 [25600/50000 (51%)]\tLoss: 2.365377\n",
      "Train Epoch: 1 [32000/50000 (64%)]\tLoss: 1.981300\n",
      "Train Epoch: 1 [38400/50000 (77%)]\tLoss: 1.508128\n",
      "Train Epoch: 1 [44800/50000 (90%)]\tLoss: 1.954754\n",
      "\n",
      "Test set: Average loss: 1.5578, Accuracy: 4494/10000 (45%)\n",
      "\n"
     ]
    },
    {
     "data": {
      "image/png": "[encoded data removed]",
      "text/plain": [
       "<matplotlib.figure.Figure at 0x7fcbf8351810>"
      ]
     },
     "metadata": {},
     "output_type": "display_data"
    },
    {
     "data": {
      "image/png": "[encoded data removed]",
      "text/plain": [
       "<matplotlib.figure.Figure at 0x7fcc0a098690>"
      ]
     },
     "metadata": {},
     "output_type": "display_data"
    },
    {
     "name": "stdout",
     "output_type": "stream",
     "text": [
      "Train Epoch: 2 [0/50000 (0%)]\tLoss: 1.610329\n",
      "Train Epoch: 2 [6400/50000 (13%)]\tLoss: 1.964790\n",
      "Train Epoch: 2 [12800/50000 (26%)]\tLoss: 1.728951\n",
      "Train Epoch: 2 [19200/50000 (38%)]\tLoss: 1.263856\n",
      "Train Epoch: 2 [25600/50000 (51%)]\tLoss: 1.423537\n",
      "Train Epoch: 2 [32000/50000 (64%)]\tLoss: 1.833166\n",
      "Train Epoch: 2 [38400/50000 (77%)]\tLoss: 1.155859\n",
      "Train Epoch: 2 [44800/50000 (90%)]\tLoss: 1.712886\n",
      "\n",
      "Test set: Average loss: 1.5403, Accuracy: 4569/10000 (46%)\n",
      "\n"
     ]
    }
   ],
   "source": [
    "activation_metrics()\n",
    "\n",
    "for epoch in range(1, epochs + 1):\n",
    "    train(epoch)\n",
    "    test(epoch)\n",
    "    activation_metrics()"
   ]
  },
  {
   "cell_type": "code",
   "execution_count": null,
   "metadata": {
    "collapsed": true
   },
   "outputs": [],
   "source": []
  },
  {
   "cell_type": "code",
   "execution_count": null,
   "metadata": {
    "collapsed": true
   },
   "outputs": [],
   "source": []
  }
 ],
 "metadata": {
  "kernelspec": {
   "display_name": "Python 2",
   "language": "python",
   "name": "python2"
  },
  "language_info": {
   "codemirror_mode": {
    "name": "ipython",
    "version": 2
   },
   "file_extension": ".py",
   "mimetype": "text/x-python",
   "name": "python",
   "nbconvert_exporter": "python",
   "pygments_lexer": "ipython2",
   "version": "2.7.13"
  }
 },
 "nbformat": 4,
 "nbformat_minor": 2
}
